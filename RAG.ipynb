{
  "nbformat": 4,
  "nbformat_minor": 0,
  "metadata": {
    "colab": {
      "provenance": [],
      "authorship_tag": "ABX9TyNfTwMUUyLADugQcWOhXfpg",
      "include_colab_link": true
    },
    "kernelspec": {
      "name": "python3",
      "display_name": "Python 3"
    },
    "language_info": {
      "name": "python"
    }
  },
  "cells": [
    {
      "cell_type": "markdown",
      "metadata": {
        "id": "view-in-github",
        "colab_type": "text"
      },
      "source": [
        "<a href=\"https://colab.research.google.com/github/poseidon2022/Retreival-Augumented-Generation/blob/main/RAG.ipynb\" target=\"_parent\"><img src=\"https://colab.research.google.com/assets/colab-badge.svg\" alt=\"Open In Colab\"/></a>"
      ]
    },
    {
      "cell_type": "code",
      "execution_count": 15,
      "metadata": {
        "id": "5iNnJxYXUwIY",
        "colab": {
          "base_uri": "https://localhost:8080/"
        },
        "collapsed": true,
        "outputId": "21307d3b-65db-4798-a8f1-ab533a62148f"
      },
      "outputs": [
        {
          "output_type": "stream",
          "name": "stdout",
          "text": [
            "Collecting fsspec==2024.6.1\n",
            "  Using cached fsspec-2024.6.1-py3-none-any.whl.metadata (11 kB)\n",
            "Using cached fsspec-2024.6.1-py3-none-any.whl (177 kB)\n",
            "Installing collected packages: fsspec\n",
            "  Attempting uninstall: fsspec\n",
            "    Found existing installation: fsspec 2023.10.0\n",
            "    Uninstalling fsspec-2023.10.0:\n",
            "      Successfully uninstalled fsspec-2023.10.0\n",
            "\u001b[31mERROR: pip's dependency resolver does not currently take into account all the packages that are installed. This behaviour is the source of the following dependency conflicts.\n",
            "datasets 2.14.6 requires fsspec[http]<=2023.10.0,>=2023.1.0, but you have fsspec 2024.6.1 which is incompatible.\u001b[0m\u001b[31m\n",
            "\u001b[0mSuccessfully installed fsspec-2024.6.1\n",
            "\u001b[31mERROR: pip's dependency resolver does not currently take into account all the packages that are installed. This behaviour is the source of the following dependency conflicts.\n",
            "gcsfs 2024.6.1 requires fsspec==2024.6.1, but you have fsspec 2023.10.0 which is incompatible.\n",
            "langchain-core 0.2.38 requires langsmith<0.2.0,>=0.1.75, but you have langsmith 0.0.92 which is incompatible.\u001b[0m\u001b[31m\n",
            "\u001b[0mRequirement already satisfied: langchain_google_genai in /usr/local/lib/python3.10/dist-packages (1.0.10)\n",
            "Requirement already satisfied: google-generativeai<0.8.0,>=0.7.0 in /usr/local/lib/python3.10/dist-packages (from langchain_google_genai) (0.7.2)\n",
            "Requirement already satisfied: langchain-core<0.3,>=0.2.33 in /usr/local/lib/python3.10/dist-packages (from langchain_google_genai) (0.2.38)\n",
            "Requirement already satisfied: google-ai-generativelanguage==0.6.6 in /usr/local/lib/python3.10/dist-packages (from google-generativeai<0.8.0,>=0.7.0->langchain_google_genai) (0.6.6)\n",
            "Requirement already satisfied: google-api-core in /usr/local/lib/python3.10/dist-packages (from google-generativeai<0.8.0,>=0.7.0->langchain_google_genai) (2.19.2)\n",
            "Requirement already satisfied: google-api-python-client in /usr/local/lib/python3.10/dist-packages (from google-generativeai<0.8.0,>=0.7.0->langchain_google_genai) (2.137.0)\n",
            "Requirement already satisfied: google-auth>=2.15.0 in /usr/local/lib/python3.10/dist-packages (from google-generativeai<0.8.0,>=0.7.0->langchain_google_genai) (2.27.0)\n",
            "Requirement already satisfied: protobuf in /usr/local/lib/python3.10/dist-packages (from google-generativeai<0.8.0,>=0.7.0->langchain_google_genai) (3.20.3)\n",
            "Requirement already satisfied: pydantic in /usr/local/lib/python3.10/dist-packages (from google-generativeai<0.8.0,>=0.7.0->langchain_google_genai) (2.8.2)\n",
            "Requirement already satisfied: tqdm in /usr/local/lib/python3.10/dist-packages (from google-generativeai<0.8.0,>=0.7.0->langchain_google_genai) (4.66.5)\n",
            "Requirement already satisfied: typing-extensions in /usr/local/lib/python3.10/dist-packages (from google-generativeai<0.8.0,>=0.7.0->langchain_google_genai) (4.12.2)\n",
            "Requirement already satisfied: proto-plus<2.0.0dev,>=1.22.3 in /usr/local/lib/python3.10/dist-packages (from google-ai-generativelanguage==0.6.6->google-generativeai<0.8.0,>=0.7.0->langchain_google_genai) (1.24.0)\n",
            "Requirement already satisfied: PyYAML>=5.3 in /usr/local/lib/python3.10/dist-packages (from langchain-core<0.3,>=0.2.33->langchain_google_genai) (6.0.2)\n",
            "Requirement already satisfied: jsonpatch<2.0,>=1.33 in /usr/local/lib/python3.10/dist-packages (from langchain-core<0.3,>=0.2.33->langchain_google_genai) (1.33)\n",
            "Collecting langsmith<0.2.0,>=0.1.75 (from langchain-core<0.3,>=0.2.33->langchain_google_genai)\n",
            "  Using cached langsmith-0.1.111-py3-none-any.whl.metadata (13 kB)\n",
            "Requirement already satisfied: packaging<25,>=23.2 in /usr/local/lib/python3.10/dist-packages (from langchain-core<0.3,>=0.2.33->langchain_google_genai) (24.1)\n",
            "Requirement already satisfied: tenacity!=8.4.0,<9.0.0,>=8.1.0 in /usr/local/lib/python3.10/dist-packages (from langchain-core<0.3,>=0.2.33->langchain_google_genai) (8.5.0)\n",
            "Requirement already satisfied: googleapis-common-protos<2.0.dev0,>=1.56.2 in /usr/local/lib/python3.10/dist-packages (from google-api-core->google-generativeai<0.8.0,>=0.7.0->langchain_google_genai) (1.65.0)\n",
            "Requirement already satisfied: requests<3.0.0.dev0,>=2.18.0 in /usr/local/lib/python3.10/dist-packages (from google-api-core->google-generativeai<0.8.0,>=0.7.0->langchain_google_genai) (2.32.3)\n",
            "Requirement already satisfied: cachetools<6.0,>=2.0.0 in /usr/local/lib/python3.10/dist-packages (from google-auth>=2.15.0->google-generativeai<0.8.0,>=0.7.0->langchain_google_genai) (5.5.0)\n",
            "Requirement already satisfied: pyasn1-modules>=0.2.1 in /usr/local/lib/python3.10/dist-packages (from google-auth>=2.15.0->google-generativeai<0.8.0,>=0.7.0->langchain_google_genai) (0.4.0)\n",
            "Requirement already satisfied: rsa<5,>=3.1.4 in /usr/local/lib/python3.10/dist-packages (from google-auth>=2.15.0->google-generativeai<0.8.0,>=0.7.0->langchain_google_genai) (4.9)\n",
            "Requirement already satisfied: jsonpointer>=1.9 in /usr/local/lib/python3.10/dist-packages (from jsonpatch<2.0,>=1.33->langchain-core<0.3,>=0.2.33->langchain_google_genai) (3.0.0)\n",
            "Requirement already satisfied: httpx<1,>=0.23.0 in /usr/local/lib/python3.10/dist-packages (from langsmith<0.2.0,>=0.1.75->langchain-core<0.3,>=0.2.33->langchain_google_genai) (0.27.2)\n",
            "Requirement already satisfied: orjson<4.0.0,>=3.9.14 in /usr/local/lib/python3.10/dist-packages (from langsmith<0.2.0,>=0.1.75->langchain-core<0.3,>=0.2.33->langchain_google_genai) (3.10.7)\n",
            "Requirement already satisfied: annotated-types>=0.4.0 in /usr/local/lib/python3.10/dist-packages (from pydantic->google-generativeai<0.8.0,>=0.7.0->langchain_google_genai) (0.7.0)\n",
            "Requirement already satisfied: pydantic-core==2.20.1 in /usr/local/lib/python3.10/dist-packages (from pydantic->google-generativeai<0.8.0,>=0.7.0->langchain_google_genai) (2.20.1)\n",
            "Requirement already satisfied: httplib2<1.dev0,>=0.19.0 in /usr/local/lib/python3.10/dist-packages (from google-api-python-client->google-generativeai<0.8.0,>=0.7.0->langchain_google_genai) (0.22.0)\n",
            "Requirement already satisfied: google-auth-httplib2<1.0.0,>=0.2.0 in /usr/local/lib/python3.10/dist-packages (from google-api-python-client->google-generativeai<0.8.0,>=0.7.0->langchain_google_genai) (0.2.0)\n",
            "Requirement already satisfied: uritemplate<5,>=3.0.1 in /usr/local/lib/python3.10/dist-packages (from google-api-python-client->google-generativeai<0.8.0,>=0.7.0->langchain_google_genai) (4.1.1)\n",
            "Requirement already satisfied: grpcio<2.0dev,>=1.33.2 in /usr/local/lib/python3.10/dist-packages (from google-api-core[grpc]!=2.0.*,!=2.1.*,!=2.10.*,!=2.2.*,!=2.3.*,!=2.4.*,!=2.5.*,!=2.6.*,!=2.7.*,!=2.8.*,!=2.9.*,<3.0.0dev,>=1.34.1->google-ai-generativelanguage==0.6.6->google-generativeai<0.8.0,>=0.7.0->langchain_google_genai) (1.64.1)\n",
            "Requirement already satisfied: grpcio-status<2.0.dev0,>=1.33.2 in /usr/local/lib/python3.10/dist-packages (from google-api-core[grpc]!=2.0.*,!=2.1.*,!=2.10.*,!=2.2.*,!=2.3.*,!=2.4.*,!=2.5.*,!=2.6.*,!=2.7.*,!=2.8.*,!=2.9.*,<3.0.0dev,>=1.34.1->google-ai-generativelanguage==0.6.6->google-generativeai<0.8.0,>=0.7.0->langchain_google_genai) (1.48.2)\n",
            "Requirement already satisfied: pyparsing!=3.0.0,!=3.0.1,!=3.0.2,!=3.0.3,<4,>=2.4.2 in /usr/local/lib/python3.10/dist-packages (from httplib2<1.dev0,>=0.19.0->google-api-python-client->google-generativeai<0.8.0,>=0.7.0->langchain_google_genai) (3.1.4)\n",
            "Requirement already satisfied: anyio in /usr/local/lib/python3.10/dist-packages (from httpx<1,>=0.23.0->langsmith<0.2.0,>=0.1.75->langchain-core<0.3,>=0.2.33->langchain_google_genai) (3.7.1)\n",
            "Requirement already satisfied: certifi in /usr/local/lib/python3.10/dist-packages (from httpx<1,>=0.23.0->langsmith<0.2.0,>=0.1.75->langchain-core<0.3,>=0.2.33->langchain_google_genai) (2024.7.4)\n",
            "Requirement already satisfied: httpcore==1.* in /usr/local/lib/python3.10/dist-packages (from httpx<1,>=0.23.0->langsmith<0.2.0,>=0.1.75->langchain-core<0.3,>=0.2.33->langchain_google_genai) (1.0.5)\n",
            "Requirement already satisfied: idna in /usr/local/lib/python3.10/dist-packages (from httpx<1,>=0.23.0->langsmith<0.2.0,>=0.1.75->langchain-core<0.3,>=0.2.33->langchain_google_genai) (3.8)\n",
            "Requirement already satisfied: sniffio in /usr/local/lib/python3.10/dist-packages (from httpx<1,>=0.23.0->langsmith<0.2.0,>=0.1.75->langchain-core<0.3,>=0.2.33->langchain_google_genai) (1.3.1)\n",
            "Requirement already satisfied: h11<0.15,>=0.13 in /usr/local/lib/python3.10/dist-packages (from httpcore==1.*->httpx<1,>=0.23.0->langsmith<0.2.0,>=0.1.75->langchain-core<0.3,>=0.2.33->langchain_google_genai) (0.14.0)\n",
            "Requirement already satisfied: pyasn1<0.7.0,>=0.4.6 in /usr/local/lib/python3.10/dist-packages (from pyasn1-modules>=0.2.1->google-auth>=2.15.0->google-generativeai<0.8.0,>=0.7.0->langchain_google_genai) (0.6.0)\n",
            "Requirement already satisfied: charset-normalizer<4,>=2 in /usr/local/lib/python3.10/dist-packages (from requests<3.0.0.dev0,>=2.18.0->google-api-core->google-generativeai<0.8.0,>=0.7.0->langchain_google_genai) (3.3.2)\n",
            "Requirement already satisfied: urllib3<3,>=1.21.1 in /usr/local/lib/python3.10/dist-packages (from requests<3.0.0.dev0,>=2.18.0->google-api-core->google-generativeai<0.8.0,>=0.7.0->langchain_google_genai) (2.0.7)\n",
            "Requirement already satisfied: exceptiongroup in /usr/local/lib/python3.10/dist-packages (from anyio->httpx<1,>=0.23.0->langsmith<0.2.0,>=0.1.75->langchain-core<0.3,>=0.2.33->langchain_google_genai) (1.2.2)\n",
            "Using cached langsmith-0.1.111-py3-none-any.whl (288 kB)\n",
            "Installing collected packages: langsmith\n",
            "  Attempting uninstall: langsmith\n",
            "    Found existing installation: langsmith 0.0.92\n",
            "    Uninstalling langsmith-0.0.92:\n",
            "      Successfully uninstalled langsmith-0.0.92\n",
            "\u001b[31mERROR: pip's dependency resolver does not currently take into account all the packages that are installed. This behaviour is the source of the following dependency conflicts.\n",
            "langchain 0.0.300 requires langsmith<0.1.0,>=0.0.38, but you have langsmith 0.1.111 which is incompatible.\u001b[0m\u001b[31m\n",
            "\u001b[0mSuccessfully installed langsmith-0.1.111\n",
            "Collecting pypdf==3.1.0\n",
            "  Downloading pypdf-3.1.0-py3-none-any.whl.metadata (6.7 kB)\n",
            "Downloading pypdf-3.1.0-py3-none-any.whl (232 kB)\n",
            "\u001b[2K   \u001b[90m━━━━━━━━━━━━━━━━━━━━━━━━━━━━━━━━━━━━━━━━\u001b[0m \u001b[32m232.3/232.3 kB\u001b[0m \u001b[31m6.1 MB/s\u001b[0m eta \u001b[36m0:00:00\u001b[0m\n",
            "\u001b[?25hInstalling collected packages: pypdf\n",
            "Successfully installed pypdf-3.1.0\n"
          ]
        }
      ],
      "source": [
        "!pip install --upgrade fsspec==2024.6.1\n",
        "!pip install -qU \\\n",
        "  langchain==0.0.300 \\\n",
        "  datasets==2.14.6 \\\n",
        "  pinecone-client==2.2.4 \\\n",
        "  tiktoken==0.5.1\n",
        "!pip install langchain_google_genai\n",
        "!pip install pypdf==3.1.0"
      ]
    },
    {
      "cell_type": "code",
      "source": [
        "from google.colab import userdata\n",
        "GOOGLE_API_KEY = userdata.get('GOOGLE_API_KE')\n",
        ""
      ],
      "metadata": {
        "id": "cG2zvrKJbN0S"
      },
      "execution_count": 16,
      "outputs": []
    },
    {
      "cell_type": "code",
      "source": [
        "from langchain_google_genai import ChatGoogleGenerativeAI\n",
        "llm = ChatGoogleGenerativeAI(model=\"gemini-1.5-pro\",\n",
        "                             google_api_key = GOOGLE_API_KEY)\n",
        "\n",
        "#Example generation\n",
        "llm.invoke(\"Write me a ballad about LangChain\").content"
      ],
      "metadata": {
        "colab": {
          "base_uri": "https://localhost:8080/",
          "height": 244
        },
        "id": "ukw3H70OdGkI",
        "outputId": "53af68ff-4f69-419f-ad95-b827f41f9372"
      },
      "execution_count": 17,
      "outputs": [
        {
          "output_type": "execute_result",
          "data": {
            "text/plain": [
              "\"(Verse 1)\\nIn a realm where data flows like a river wide,\\nAnd models yearn for meaning, side by side,\\nThere lived a language, potent and grand,\\nLangChain, they called it, a helping hand.\\n\\n(Verse 2)\\nWith chains of logic, it wove a spell,\\nConnecting models, stories to tell,\\nFrom GPT's wisdom to embeddings deep,\\nLangChain awakened, secrets to keep.\\n\\n(Verse 3)\\nIt spoke to databases, ancient and vast,\\nUnveiling knowledge, forgotten in the past,\\nWith APIs as bridges, it spanned the divide,\\nBringing information, on its mighty tide.\\n\\n(Verse 4)\\nIt whispered to agents, tasks to fulfill,\\nAutomation's promise, with skillful thrill,\\nFrom chatbots friendly to tools refined,\\nLangChain empowered, leaving none behind.\\n\\n(Verse 5)\\nBut with great power, a challenge arose,\\nTo guide its potential, where wisdom flows,\\nFor in the wrong hands, it could be misled,\\nA tool for chaos, instead of being led.\\n\\n(Verse 6)\\nSo let us wield LangChain, with hearts so true,\\nTo build a future, brighter and new,\\nWhere knowledge empowers, and understanding thrives,\\nAnd LangChain's legacy, forever survives. \\n\""
            ],
            "application/vnd.google.colaboratory.intrinsic+json": {
              "type": "string"
            }
          },
          "metadata": {},
          "execution_count": 17
        }
      ]
    },
    {
      "cell_type": "markdown",
      "source": [],
      "metadata": {
        "id": "nNXlqIHdc5Zj"
      }
    },
    {
      "cell_type": "code",
      "source": [
        "#let us have a continuous in-memory context remembering example\n",
        "messages = [\n",
        "    (\"system\", \"You are a helpful assistant.\"),\n",
        "    (\"human\", \"Hi AI how are you today?\"),\n",
        "    (\"ai\", \"I am great, how can I help you today?\"),\n",
        "    (\"human\", \"I want to know more about string theory.\")\n",
        "]"
      ],
      "metadata": {
        "id": "fYCQ3w3xewrc"
      },
      "execution_count": 18,
      "outputs": []
    },
    {
      "cell_type": "code",
      "source": [
        "res = llm.invoke(messages)\n",
        "res.content"
      ],
      "metadata": {
        "colab": {
          "base_uri": "https://localhost:8080/",
          "height": 244
        },
        "id": "-7B1p-JJgxqY",
        "outputId": "351d174e-2d0e-4e36-e23c-63472ebc372a"
      },
      "execution_count": 19,
      "outputs": [
        {
          "output_type": "execute_result",
          "data": {
            "text/plain": [
              "\"That's a fascinating subject!  String theory is a complex and highly theoretical area of physics, but I can try to break it down into some key concepts. \\n\\nHere are some things to know about string theory:\\n\\n**The Basics**\\n\\n* **Everything is Made of Strings:**  String theory proposes that the fundamental building blocks of the universe are not point-like particles, but rather tiny, vibrating one-dimensional objects called strings. \\n* **Vibrations Determine Properties:** Just like how different vibrations of a violin string produce different notes, different vibrations of these fundamental strings give rise to the different particles we observe (electrons, quarks, photons, etc.).\\n* **Unifying Forces:** One of the main goals of string theory is to provide a unified description of all the fundamental forces of nature, including gravity, electromagnetism, and the strong and weak nuclear forces.\\n\\n**Key Concepts**\\n\\n* **Extra Dimensions:** String theory suggests that our universe may have more than the three spatial dimensions (length, width, height) and one time dimension that we experience. These extra dimensions are thought to be curled up and hidden at incredibly small scales.\\n* **Quantum Gravity:** String theory is a promising candidate for a theory of quantum gravity, which aims to reconcile Einstein's general relativity (describing gravity) with quantum mechanics (describing the behavior of matter and energy at the atomic and subatomic levels).\\n* **Types of String Theory:**  Initially, there were five different versions of string theory. However, physicists later discovered that these five theories are connected and can be unified under a single framework called M-theory.\\n\\n**Challenges and Criticisms**\\n\\n* **Difficult to Test:** One of the main criticisms of string theory is that it is currently very difficult, if not impossible, to test experimentally. The strings are thought to be far too small to be detected by any existing or foreseeable technology.\\n* **Mathematical Complexity:** String theory is highly complex and requires advanced mathematics to understand. \\n\\n**In Conclusion**\\n\\nString theory is an active area of research with the potential to revolutionize our understanding of the universe. While it faces challenges and criticisms, it continues to inspire physicists in their quest for a unified theory of everything. \\n\\nLet me know if you have any other questions! \\n\""
            ],
            "application/vnd.google.colaboratory.intrinsic+json": {
              "type": "string"
            }
          },
          "metadata": {},
          "execution_count": 19
        }
      ]
    },
    {
      "cell_type": "code",
      "source": [
        "messages.append((\"ai\", res.content))\n",
        "messages"
      ],
      "metadata": {
        "colab": {
          "base_uri": "https://localhost:8080/"
        },
        "collapsed": true,
        "id": "9o3oK-y9iOv_",
        "outputId": "da4f4529-797b-418f-e76f-79edf60bcfeb"
      },
      "execution_count": 20,
      "outputs": [
        {
          "output_type": "execute_result",
          "data": {
            "text/plain": [
              "[('system', 'You are a helpful assistant.'),\n",
              " ('human', 'Hi AI how are you today?'),\n",
              " ('ai', 'I am great, how can I help you today?'),\n",
              " ('human', 'I want to know more about string theory.'),\n",
              " ('ai',\n",
              "  \"That's a fascinating subject!  String theory is a complex and highly theoretical area of physics, but I can try to break it down into some key concepts. \\n\\nHere are some things to know about string theory:\\n\\n**The Basics**\\n\\n* **Everything is Made of Strings:**  String theory proposes that the fundamental building blocks of the universe are not point-like particles, but rather tiny, vibrating one-dimensional objects called strings. \\n* **Vibrations Determine Properties:** Just like how different vibrations of a violin string produce different notes, different vibrations of these fundamental strings give rise to the different particles we observe (electrons, quarks, photons, etc.).\\n* **Unifying Forces:** One of the main goals of string theory is to provide a unified description of all the fundamental forces of nature, including gravity, electromagnetism, and the strong and weak nuclear forces.\\n\\n**Key Concepts**\\n\\n* **Extra Dimensions:** String theory suggests that our universe may have more than the three spatial dimensions (length, width, height) and one time dimension that we experience. These extra dimensions are thought to be curled up and hidden at incredibly small scales.\\n* **Quantum Gravity:** String theory is a promising candidate for a theory of quantum gravity, which aims to reconcile Einstein's general relativity (describing gravity) with quantum mechanics (describing the behavior of matter and energy at the atomic and subatomic levels).\\n* **Types of String Theory:**  Initially, there were five different versions of string theory. However, physicists later discovered that these five theories are connected and can be unified under a single framework called M-theory.\\n\\n**Challenges and Criticisms**\\n\\n* **Difficult to Test:** One of the main criticisms of string theory is that it is currently very difficult, if not impossible, to test experimentally. The strings are thought to be far too small to be detected by any existing or foreseeable technology.\\n* **Mathematical Complexity:** String theory is highly complex and requires advanced mathematics to understand. \\n\\n**In Conclusion**\\n\\nString theory is an active area of research with the potential to revolutionize our understanding of the universe. While it faces challenges and criticisms, it continues to inspire physicists in their quest for a unified theory of everything. \\n\\nLet me know if you have any other questions! \\n\")]"
            ]
          },
          "metadata": {},
          "execution_count": 20
        }
      ]
    },
    {
      "cell_type": "code",
      "source": [
        "messages.append((\"human\", \"tell me more\"))\n",
        "llm.invoke(messages).content"
      ],
      "metadata": {
        "colab": {
          "base_uri": "https://localhost:8080/",
          "height": 244
        },
        "id": "nwmRS8GIj14X",
        "outputId": "24e7d165-cd8a-4032-9fdc-de8cf4fee6f6"
      },
      "execution_count": 21,
      "outputs": [
        {
          "output_type": "execute_result",
          "data": {
            "text/plain": [
              "'Okay, let\\'s dive a little deeper into some specific aspects of string theory:\\n\\n**1. Extra Dimensions: The Hidden Landscape**\\n\\n* Imagine a tightrope walker. From far away, they appear to move only in one dimension—along the rope. However, an ant crawling on the rope experiences an additional dimension: the circumference of the rope itself.\\n* String theory suggests that our universe may have extra spatial dimensions curled up in a similar way, too small to be directly observed. These extra dimensions could be responsible for the properties of particles and forces we observe.\\n* The way these extra dimensions are \"compactified\" (curled up) can lead to a vast number of possible universes with different physical laws, forming what\\'s known as the \"string theory landscape.\"\\n\\n**2. Unifying Forces: A Cosmic Symphony**\\n\\n* Each fundamental force in the universe is associated with a particular particle that carries that force. For example, photons carry the electromagnetic force.\\n* String theory proposes that these force-carrying particles are just different vibrational modes of the same fundamental strings. This offers a way to unify all forces under a single framework.\\n\\n**3. Quantum Gravity: Bridging the Gap**\\n\\n* General relativity describes gravity as the curvature of spacetime caused by massive objects. Quantum mechanics, on the other hand, describes the behavior of matter and energy at the smallest scales.\\n* These two fundamental theories seem incompatible at extremely high energies and small scales, such as those found inside black holes or at the moment of the Big Bang.\\n* String theory attempts to reconcile these theories by suggesting that at the Planck scale (the smallest possible scale in physics), the fabric of spacetime itself is made up of vibrating strings.\\n\\n**4. M-Theory: The Mother of All Theories?**\\n\\n* Initially, there were five different consistent versions of string theory, each with its own strengths and weaknesses.\\n* In the mid-1990s, physicists discovered that these five theories are actually connected and can be unified under a larger, 11-dimensional framework called M-theory. \\n* The \"M\" in M-theory is a mystery! It has been jokingly said to stand for \"membrane,\" \"matrix,\" \"mystery,\" or even \"mother.\"\\n\\n**What\\'s Next?**\\n\\nString theory is a work in progress. Physicists are working on developing new mathematical tools and exploring ways to test its predictions, even indirectly. While it remains a highly theoretical framework, it continues to push the boundaries of our understanding of the universe and inspire new avenues of research in fundamental physics. \\n\\nIs there any aspect in particular you\\'d like to explore further? \\n'"
            ],
            "application/vnd.google.colaboratory.intrinsic+json": {
              "type": "string"
            }
          },
          "metadata": {},
          "execution_count": 21
        }
      ]
    },
    {
      "cell_type": "markdown",
      "source": [
        "Now we have our llm setup and the next thing is loading up a freash document. I setup a document on a fictional company named Kidus Melaku Simegne. But you can load up any document and test the functionality."
      ],
      "metadata": {
        "id": "4QAoDEXjkyRf"
      }
    },
    {
      "cell_type": "code",
      "source": [
        "from langchain_google_genai import GoogleGenerativeAIEmbeddings\n",
        "\n",
        "embeddings = GoogleGenerativeAIEmbeddings(model=\"models/embedding-001\",\n",
        "                                          google_api_key = GOOGLE_API_KEY)\n",
        "#example embedding\n",
        "vector = embeddings.embed_query(\"hello, world!\")\n",
        "vector[:5]"
      ],
      "metadata": {
        "colab": {
          "base_uri": "https://localhost:8080/"
        },
        "id": "KwNQ7ZRFodvO",
        "outputId": "aea02a1f-9ff1-4376-cd55-cc5b58c23d1f"
      },
      "execution_count": 22,
      "outputs": [
        {
          "output_type": "execute_result",
          "data": {
            "text/plain": [
              "[0.05168594419956207,\n",
              " -0.030764883384108543,\n",
              " -0.03062233328819275,\n",
              " -0.02802734449505806,\n",
              " 0.01813092641532421]"
            ]
          },
          "metadata": {},
          "execution_count": 22
        }
      ]
    },
    {
      "cell_type": "code",
      "source": [
        "#Now we have to load up our document and try to split it into smalled chunks that\n",
        "#are later to be used for embedding\n",
        "from langchain.document_loaders import PyPDFLoader\n",
        "loader = PyPDFLoader(\"Kidus Melaku's company.pdf\") #change this path to the file path you want\n",
        "document = loader.load()\n",
        "\n"
      ],
      "metadata": {
        "id": "AH5e2uLppwGg"
      },
      "execution_count": 33,
      "outputs": []
    },
    {
      "cell_type": "code",
      "source": [
        "#now we use a recursive text splitter to chunk up the text into a list of smaller texts\n",
        "from langchain.text_splitter import RecursiveCharacterTextSplitter\n",
        "text_splitter = RecursiveCharacterTextSplitter(\n",
        "   chunk_size=800,\n",
        "   chunk_overlap=150\n",
        ")\n",
        "\n",
        "chunks = text_splitter.split_documents(document)\n",
        "chunks\n"
      ],
      "metadata": {
        "id": "MtXonpvNvKGi"
      },
      "execution_count": null,
      "outputs": []
    }
  ]
}
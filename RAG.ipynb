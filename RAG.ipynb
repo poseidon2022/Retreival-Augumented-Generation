{
  "nbformat": 4,
  "nbformat_minor": 0,
  "metadata": {
    "colab": {
      "provenance": [],
      "authorship_tag": "ABX9TyM8UoL9VYqiYIMZlfZ7Fccw",
      "include_colab_link": true
    },
    "kernelspec": {
      "name": "python3",
      "display_name": "Python 3"
    },
    "language_info": {
      "name": "python"
    }
  },
  "cells": [
    {
      "cell_type": "markdown",
      "metadata": {
        "id": "view-in-github",
        "colab_type": "text"
      },
      "source": [
        "<a href=\"https://colab.research.google.com/github/poseidon2022/Retreival-Augumented-Generation/blob/main/RAG.ipynb\" target=\"_parent\"><img src=\"https://colab.research.google.com/assets/colab-badge.svg\" alt=\"Open In Colab\"/></a>"
      ]
    },
    {
      "cell_type": "code",
      "execution_count": 10,
      "metadata": {
        "id": "5iNnJxYXUwIY",
        "colab": {
          "base_uri": "https://localhost:8080/"
        },
        "collapsed": true,
        "outputId": "2b511d71-41a9-4890-de34-b28d7251df92"
      },
      "outputs": [
        {
          "output_type": "stream",
          "name": "stdout",
          "text": [
            "Collecting fsspec==2024.6.1\n",
            "  Using cached fsspec-2024.6.1-py3-none-any.whl.metadata (11 kB)\n",
            "Using cached fsspec-2024.6.1-py3-none-any.whl (177 kB)\n",
            "Installing collected packages: fsspec\n",
            "  Attempting uninstall: fsspec\n",
            "    Found existing installation: fsspec 2023.10.0\n",
            "    Uninstalling fsspec-2023.10.0:\n",
            "      Successfully uninstalled fsspec-2023.10.0\n",
            "\u001b[31mERROR: pip's dependency resolver does not currently take into account all the packages that are installed. This behaviour is the source of the following dependency conflicts.\n",
            "datasets 2.14.6 requires fsspec[http]<=2023.10.0,>=2023.1.0, but you have fsspec 2024.6.1 which is incompatible.\u001b[0m\u001b[31m\n",
            "\u001b[0mSuccessfully installed fsspec-2024.6.1\n",
            "\u001b[31mERROR: pip's dependency resolver does not currently take into account all the packages that are installed. This behaviour is the source of the following dependency conflicts.\n",
            "gcsfs 2024.6.1 requires fsspec==2024.6.1, but you have fsspec 2023.10.0 which is incompatible.\u001b[0m\u001b[31m\n",
            "\u001b[0mCollecting langchain_google_genai\n",
            "  Downloading langchain_google_genai-1.0.10-py3-none-any.whl.metadata (3.8 kB)\n",
            "Requirement already satisfied: google-generativeai<0.8.0,>=0.7.0 in /usr/local/lib/python3.10/dist-packages (from langchain_google_genai) (0.7.2)\n",
            "Collecting langchain-core<0.3,>=0.2.33 (from langchain_google_genai)\n",
            "  Downloading langchain_core-0.2.37-py3-none-any.whl.metadata (6.2 kB)\n",
            "Requirement already satisfied: google-ai-generativelanguage==0.6.6 in /usr/local/lib/python3.10/dist-packages (from google-generativeai<0.8.0,>=0.7.0->langchain_google_genai) (0.6.6)\n",
            "Requirement already satisfied: google-api-core in /usr/local/lib/python3.10/dist-packages (from google-generativeai<0.8.0,>=0.7.0->langchain_google_genai) (2.19.1)\n",
            "Requirement already satisfied: google-api-python-client in /usr/local/lib/python3.10/dist-packages (from google-generativeai<0.8.0,>=0.7.0->langchain_google_genai) (2.137.0)\n",
            "Requirement already satisfied: google-auth>=2.15.0 in /usr/local/lib/python3.10/dist-packages (from google-generativeai<0.8.0,>=0.7.0->langchain_google_genai) (2.27.0)\n",
            "Requirement already satisfied: protobuf in /usr/local/lib/python3.10/dist-packages (from google-generativeai<0.8.0,>=0.7.0->langchain_google_genai) (3.20.3)\n",
            "Requirement already satisfied: pydantic in /usr/local/lib/python3.10/dist-packages (from google-generativeai<0.8.0,>=0.7.0->langchain_google_genai) (2.8.2)\n",
            "Requirement already satisfied: tqdm in /usr/local/lib/python3.10/dist-packages (from google-generativeai<0.8.0,>=0.7.0->langchain_google_genai) (4.66.5)\n",
            "Requirement already satisfied: typing-extensions in /usr/local/lib/python3.10/dist-packages (from google-generativeai<0.8.0,>=0.7.0->langchain_google_genai) (4.12.2)\n",
            "Requirement already satisfied: proto-plus<2.0.0dev,>=1.22.3 in /usr/local/lib/python3.10/dist-packages (from google-ai-generativelanguage==0.6.6->google-generativeai<0.8.0,>=0.7.0->langchain_google_genai) (1.24.0)\n",
            "Requirement already satisfied: PyYAML>=5.3 in /usr/local/lib/python3.10/dist-packages (from langchain-core<0.3,>=0.2.33->langchain_google_genai) (6.0.2)\n",
            "Requirement already satisfied: jsonpatch<2.0,>=1.33 in /usr/local/lib/python3.10/dist-packages (from langchain-core<0.3,>=0.2.33->langchain_google_genai) (1.33)\n",
            "Collecting langsmith<0.2.0,>=0.1.75 (from langchain-core<0.3,>=0.2.33->langchain_google_genai)\n",
            "  Downloading langsmith-0.1.108-py3-none-any.whl.metadata (13 kB)\n",
            "Requirement already satisfied: packaging<25,>=23.2 in /usr/local/lib/python3.10/dist-packages (from langchain-core<0.3,>=0.2.33->langchain_google_genai) (24.1)\n",
            "Requirement already satisfied: tenacity!=8.4.0,<9.0.0,>=8.1.0 in /usr/local/lib/python3.10/dist-packages (from langchain-core<0.3,>=0.2.33->langchain_google_genai) (8.5.0)\n",
            "Requirement already satisfied: googleapis-common-protos<2.0.dev0,>=1.56.2 in /usr/local/lib/python3.10/dist-packages (from google-api-core->google-generativeai<0.8.0,>=0.7.0->langchain_google_genai) (1.64.0)\n",
            "Requirement already satisfied: requests<3.0.0.dev0,>=2.18.0 in /usr/local/lib/python3.10/dist-packages (from google-api-core->google-generativeai<0.8.0,>=0.7.0->langchain_google_genai) (2.32.3)\n",
            "Requirement already satisfied: cachetools<6.0,>=2.0.0 in /usr/local/lib/python3.10/dist-packages (from google-auth>=2.15.0->google-generativeai<0.8.0,>=0.7.0->langchain_google_genai) (5.5.0)\n",
            "Requirement already satisfied: pyasn1-modules>=0.2.1 in /usr/local/lib/python3.10/dist-packages (from google-auth>=2.15.0->google-generativeai<0.8.0,>=0.7.0->langchain_google_genai) (0.4.0)\n",
            "Requirement already satisfied: rsa<5,>=3.1.4 in /usr/local/lib/python3.10/dist-packages (from google-auth>=2.15.0->google-generativeai<0.8.0,>=0.7.0->langchain_google_genai) (4.9)\n",
            "Requirement already satisfied: jsonpointer>=1.9 in /usr/local/lib/python3.10/dist-packages (from jsonpatch<2.0,>=1.33->langchain-core<0.3,>=0.2.33->langchain_google_genai) (3.0.0)\n",
            "Collecting httpx<1,>=0.23.0 (from langsmith<0.2.0,>=0.1.75->langchain-core<0.3,>=0.2.33->langchain_google_genai)\n",
            "  Downloading httpx-0.27.2-py3-none-any.whl.metadata (7.1 kB)\n",
            "Collecting orjson<4.0.0,>=3.9.14 (from langsmith<0.2.0,>=0.1.75->langchain-core<0.3,>=0.2.33->langchain_google_genai)\n",
            "  Downloading orjson-3.10.7-cp310-cp310-manylinux_2_17_x86_64.manylinux2014_x86_64.whl.metadata (50 kB)\n",
            "\u001b[2K     \u001b[90m━━━━━━━━━━━━━━━━━━━━━━━━━━━━━━━━━━━━━━━━\u001b[0m \u001b[32m50.4/50.4 kB\u001b[0m \u001b[31m3.2 MB/s\u001b[0m eta \u001b[36m0:00:00\u001b[0m\n",
            "\u001b[?25hRequirement already satisfied: annotated-types>=0.4.0 in /usr/local/lib/python3.10/dist-packages (from pydantic->google-generativeai<0.8.0,>=0.7.0->langchain_google_genai) (0.7.0)\n",
            "Requirement already satisfied: pydantic-core==2.20.1 in /usr/local/lib/python3.10/dist-packages (from pydantic->google-generativeai<0.8.0,>=0.7.0->langchain_google_genai) (2.20.1)\n",
            "Requirement already satisfied: httplib2<1.dev0,>=0.19.0 in /usr/local/lib/python3.10/dist-packages (from google-api-python-client->google-generativeai<0.8.0,>=0.7.0->langchain_google_genai) (0.22.0)\n",
            "Requirement already satisfied: google-auth-httplib2<1.0.0,>=0.2.0 in /usr/local/lib/python3.10/dist-packages (from google-api-python-client->google-generativeai<0.8.0,>=0.7.0->langchain_google_genai) (0.2.0)\n",
            "Requirement already satisfied: uritemplate<5,>=3.0.1 in /usr/local/lib/python3.10/dist-packages (from google-api-python-client->google-generativeai<0.8.0,>=0.7.0->langchain_google_genai) (4.1.1)\n",
            "Requirement already satisfied: grpcio<2.0dev,>=1.33.2 in /usr/local/lib/python3.10/dist-packages (from google-api-core[grpc]!=2.0.*,!=2.1.*,!=2.10.*,!=2.2.*,!=2.3.*,!=2.4.*,!=2.5.*,!=2.6.*,!=2.7.*,!=2.8.*,!=2.9.*,<3.0.0dev,>=1.34.1->google-ai-generativelanguage==0.6.6->google-generativeai<0.8.0,>=0.7.0->langchain_google_genai) (1.64.1)\n",
            "Requirement already satisfied: grpcio-status<2.0.dev0,>=1.33.2 in /usr/local/lib/python3.10/dist-packages (from google-api-core[grpc]!=2.0.*,!=2.1.*,!=2.10.*,!=2.2.*,!=2.3.*,!=2.4.*,!=2.5.*,!=2.6.*,!=2.7.*,!=2.8.*,!=2.9.*,<3.0.0dev,>=1.34.1->google-ai-generativelanguage==0.6.6->google-generativeai<0.8.0,>=0.7.0->langchain_google_genai) (1.48.2)\n",
            "Requirement already satisfied: pyparsing!=3.0.0,!=3.0.1,!=3.0.2,!=3.0.3,<4,>=2.4.2 in /usr/local/lib/python3.10/dist-packages (from httplib2<1.dev0,>=0.19.0->google-api-python-client->google-generativeai<0.8.0,>=0.7.0->langchain_google_genai) (3.1.4)\n",
            "Requirement already satisfied: anyio in /usr/local/lib/python3.10/dist-packages (from httpx<1,>=0.23.0->langsmith<0.2.0,>=0.1.75->langchain-core<0.3,>=0.2.33->langchain_google_genai) (3.7.1)\n",
            "Requirement already satisfied: certifi in /usr/local/lib/python3.10/dist-packages (from httpx<1,>=0.23.0->langsmith<0.2.0,>=0.1.75->langchain-core<0.3,>=0.2.33->langchain_google_genai) (2024.7.4)\n",
            "Collecting httpcore==1.* (from httpx<1,>=0.23.0->langsmith<0.2.0,>=0.1.75->langchain-core<0.3,>=0.2.33->langchain_google_genai)\n",
            "  Downloading httpcore-1.0.5-py3-none-any.whl.metadata (20 kB)\n",
            "Requirement already satisfied: idna in /usr/local/lib/python3.10/dist-packages (from httpx<1,>=0.23.0->langsmith<0.2.0,>=0.1.75->langchain-core<0.3,>=0.2.33->langchain_google_genai) (3.8)\n",
            "Requirement already satisfied: sniffio in /usr/local/lib/python3.10/dist-packages (from httpx<1,>=0.23.0->langsmith<0.2.0,>=0.1.75->langchain-core<0.3,>=0.2.33->langchain_google_genai) (1.3.1)\n",
            "Collecting h11<0.15,>=0.13 (from httpcore==1.*->httpx<1,>=0.23.0->langsmith<0.2.0,>=0.1.75->langchain-core<0.3,>=0.2.33->langchain_google_genai)\n",
            "  Downloading h11-0.14.0-py3-none-any.whl.metadata (8.2 kB)\n",
            "Requirement already satisfied: pyasn1<0.7.0,>=0.4.6 in /usr/local/lib/python3.10/dist-packages (from pyasn1-modules>=0.2.1->google-auth>=2.15.0->google-generativeai<0.8.0,>=0.7.0->langchain_google_genai) (0.6.0)\n",
            "Requirement already satisfied: charset-normalizer<4,>=2 in /usr/local/lib/python3.10/dist-packages (from requests<3.0.0.dev0,>=2.18.0->google-api-core->google-generativeai<0.8.0,>=0.7.0->langchain_google_genai) (3.3.2)\n",
            "Requirement already satisfied: urllib3<3,>=1.21.1 in /usr/local/lib/python3.10/dist-packages (from requests<3.0.0.dev0,>=2.18.0->google-api-core->google-generativeai<0.8.0,>=0.7.0->langchain_google_genai) (2.0.7)\n",
            "Requirement already satisfied: exceptiongroup in /usr/local/lib/python3.10/dist-packages (from anyio->httpx<1,>=0.23.0->langsmith<0.2.0,>=0.1.75->langchain-core<0.3,>=0.2.33->langchain_google_genai) (1.2.2)\n",
            "Downloading langchain_google_genai-1.0.10-py3-none-any.whl (39 kB)\n",
            "Downloading langchain_core-0.2.37-py3-none-any.whl (396 kB)\n",
            "\u001b[2K   \u001b[90m━━━━━━━━━━━━━━━━━━━━━━━━━━━━━━━━━━━━━━━━\u001b[0m \u001b[32m396.2/396.2 kB\u001b[0m \u001b[31m21.6 MB/s\u001b[0m eta \u001b[36m0:00:00\u001b[0m\n",
            "\u001b[?25hDownloading langsmith-0.1.108-py3-none-any.whl (150 kB)\n",
            "\u001b[2K   \u001b[90m━━━━━━━━━━━━━━━━━━━━━━━━━━━━━━━━━━━━━━━━\u001b[0m \u001b[32m150.7/150.7 kB\u001b[0m \u001b[31m8.7 MB/s\u001b[0m eta \u001b[36m0:00:00\u001b[0m\n",
            "\u001b[?25hDownloading httpx-0.27.2-py3-none-any.whl (76 kB)\n",
            "\u001b[2K   \u001b[90m━━━━━━━━━━━━━━━━━━━━━━━━━━━━━━━━━━━━━━━━\u001b[0m \u001b[32m76.4/76.4 kB\u001b[0m \u001b[31m4.8 MB/s\u001b[0m eta \u001b[36m0:00:00\u001b[0m\n",
            "\u001b[?25hDownloading httpcore-1.0.5-py3-none-any.whl (77 kB)\n",
            "\u001b[2K   \u001b[90m━━━━━━━━━━━━━━━━━━━━━━━━━━━━━━━━━━━━━━━━\u001b[0m \u001b[32m77.9/77.9 kB\u001b[0m \u001b[31m5.2 MB/s\u001b[0m eta \u001b[36m0:00:00\u001b[0m\n",
            "\u001b[?25hDownloading orjson-3.10.7-cp310-cp310-manylinux_2_17_x86_64.manylinux2014_x86_64.whl (141 kB)\n",
            "\u001b[2K   \u001b[90m━━━━━━━━━━━━━━━━━━━━━━━━━━━━━━━━━━━━━━━━\u001b[0m \u001b[32m141.9/141.9 kB\u001b[0m \u001b[31m8.3 MB/s\u001b[0m eta \u001b[36m0:00:00\u001b[0m\n",
            "\u001b[?25hDownloading h11-0.14.0-py3-none-any.whl (58 kB)\n",
            "\u001b[2K   \u001b[90m━━━━━━━━━━━━━━━━━━━━━━━━━━━━━━━━━━━━━━━━\u001b[0m \u001b[32m58.3/58.3 kB\u001b[0m \u001b[31m3.7 MB/s\u001b[0m eta \u001b[36m0:00:00\u001b[0m\n",
            "\u001b[?25hInstalling collected packages: orjson, h11, httpcore, httpx, langsmith, langchain-core, langchain_google_genai\n",
            "  Attempting uninstall: langsmith\n",
            "    Found existing installation: langsmith 0.0.92\n",
            "    Uninstalling langsmith-0.0.92:\n",
            "      Successfully uninstalled langsmith-0.0.92\n",
            "\u001b[31mERROR: pip's dependency resolver does not currently take into account all the packages that are installed. This behaviour is the source of the following dependency conflicts.\n",
            "langchain 0.0.300 requires langsmith<0.1.0,>=0.0.38, but you have langsmith 0.1.108 which is incompatible.\u001b[0m\u001b[31m\n",
            "\u001b[0mSuccessfully installed h11-0.14.0 httpcore-1.0.5 httpx-0.27.2 langchain-core-0.2.37 langchain_google_genai-1.0.10 langsmith-0.1.108 orjson-3.10.7\n"
          ]
        }
      ],
      "source": [
        "!pip install --upgrade fsspec==2024.6.1\n",
        "!pip install -qU \\\n",
        "  langchain==0.0.300 \\\n",
        "  datasets==2.14.6 \\\n",
        "  pinecone-client==2.2.4 \\\n",
        "  tiktoken==0.5.1\n",
        "!pip install langchain_google_genai"
      ]
    },
    {
      "cell_type": "code",
      "source": [
        "from google.colab import userdata\n",
        "GOOGLE_API_KEY = userdata.get('GOOGLE_API_KE')\n",
        ""
      ],
      "metadata": {
        "id": "cG2zvrKJbN0S"
      },
      "execution_count": 11,
      "outputs": []
    },
    {
      "cell_type": "code",
      "source": [
        "from langchain_google_genai import ChatGoogleGenerativeAI\n",
        "llm = ChatGoogleGenerativeAI(model=\"gemini-1.5-pro\",\n",
        "                             google_api_key = GOOGLE_API_KEY)\n",
        "\n",
        "#Example generation\n",
        "llm.invoke(\"Write me a ballad about LangChain\").content"
      ],
      "metadata": {
        "colab": {
          "base_uri": "https://localhost:8080/",
          "height": 244
        },
        "id": "ukw3H70OdGkI",
        "outputId": "887ff270-cf2a-4827-cc9a-0eb5db1dcdd5"
      },
      "execution_count": 14,
      "outputs": [
        {
          "output_type": "execute_result",
          "data": {
            "text/plain": [
              "\"(Verse 1)\\nIn a realm of data, vast and wide,\\nWhere information flows like a tide,\\nThere arose a tool, both strong and bold,\\nLangChain its name, a story to be told.\\n\\n(Verse 2)\\nWith chains of logic, it weaves its spell,\\nConnecting modules, stories to tell,\\nFrom language models, it draws its might,\\nUnlocking insights, day and night.\\n\\n(Verse 3)\\nChatbots it crafts, with voices clear,\\nAnswering queries, dispelling fear,\\nDocuments summarized, knowledge refined,\\nA treasure trove of wisdom, you'll find.\\n\\n(Verse 4)\\nGenerative tales, it spins with grace,\\nCode it can write, at a rapid pace,\\nFrom poems to scripts, its talents abound,\\nA creative powerhouse, profound.\\n\\n(Verse 5)\\nDevelopers gather, from far and wide,\\nTo harness its power, with eager stride,\\nWith every project, its legend grows,\\nLangChain, the future, everyone knows.\\n\\n(Verse 6)\\nSo let us sing of this wondrous tool,\\nA testament to innovation's rule,\\nLangChain, the chain that sets us free,\\nTo explore new horizons, for you and me. \\n\""
            ],
            "application/vnd.google.colaboratory.intrinsic+json": {
              "type": "string"
            }
          },
          "metadata": {},
          "execution_count": 14
        }
      ]
    },
    {
      "cell_type": "markdown",
      "source": [],
      "metadata": {
        "id": "nNXlqIHdc5Zj"
      }
    },
    {
      "cell_type": "code",
      "source": [
        "from langchain.schema import (\n",
        "    SystemMessage,\n",
        "    HumanMessage,\n",
        "    AIMessage\n",
        ")\n",
        "\n",
        "#let us have a continuous example\n",
        "messages = [\n",
        "    (\"system\", \"You are a helpful assistant.\"),\n",
        "    (\"human\", \"Hi AI how are you today?\"),\n",
        "    (\"ai\", \"I am great, how can I help you today?\"),\n",
        "    (\"human\", \"I want to know more about string theory.\")\n",
        "]"
      ],
      "metadata": {
        "id": "fYCQ3w3xewrc"
      },
      "execution_count": 36,
      "outputs": []
    },
    {
      "cell_type": "code",
      "source": [
        "res = llm.invoke(messages)\n",
        "res.content"
      ],
      "metadata": {
        "colab": {
          "base_uri": "https://localhost:8080/",
          "height": 244
        },
        "id": "-7B1p-JJgxqY",
        "outputId": "307ffa5b-10e4-4035-c8ff-907de8ea1c92"
      },
      "execution_count": 37,
      "outputs": [
        {
          "output_type": "execute_result",
          "data": {
            "text/plain": [
              "'That\\'s a fascinating topic! String theory is a complex and mind-bending area of theoretical physics. To give you the best understanding, I\\'ll break it down into digestible parts:\\n\\n**The Basics**\\n\\n* **Imagine...tiny, vibrating strings:** At its core, string theory proposes that the fundamental building blocks of the universe are not point-like particles (like electrons or quarks), but rather incredibly tiny, one-dimensional objects called \"strings.\"\\n* **Vibrations create reality:**  Just like a guitar string vibrating at different frequencies produces different musical notes, these strings vibrate in different ways, and these vibrations are what we perceive as different particles and forces.\\n* **Unifying forces:** One of the main goals of string theory is to provide a single framework that can explain all four fundamental forces of nature: gravity, electromagnetism, the strong nuclear force, and the weak nuclear force.\\n\\n**Key Concepts**\\n\\n* **Extra Dimensions:**  String theory suggests that our universe might have more than the familiar three spatial dimensions (length, width, height) and one time dimension. These extra dimensions are thought to be curled up and hidden at incredibly small scales.\\n* **Different Flavors of String Theory:**  Over time, physicists have developed different versions of string theory, each with its own mathematical framework. Some of the most well-known are:\\n    * **Superstring Theory:**  This version incorporates the concept of \"supersymmetry,\" which proposes a relationship between particles that make up matter (fermions) and particles that carry forces (bosons).\\n    * **M-Theory:** This theory attempts to unify the different string theories into a single framework.\\n\\n**Why is String Theory Important?**\\n\\n* **Quantum Gravity:** String theory has the potential to solve one of the biggest mysteries in modern physics: how to reconcile Einstein\\'s theory of general relativity (which describes gravity) with quantum mechanics (which describes the behavior of matter and energy at the atomic and subatomic levels).\\n* **Early Universe:** String theory could provide insights into the very early universe, including the nature of the Big Bang and the formation of the first structures.\\n\\n**Challenges and Criticisms**\\n\\n* **Experimental Verification:** One of the biggest challenges facing string theory is the lack of experimental evidence to support it. The strings are thought to be so small that they are beyond the reach of current technology.\\n* **Mathematical Complexity:** String theory is incredibly complex, and many of its predictions are difficult, if not impossible, to test.\\n\\n**In a Nutshell**\\n\\nString theory is a captivating but still-developing area of theoretical physics that aims to provide a unified description of the universe. While it faces significant challenges, it continues to inspire physicists and capture the imaginations of people worldwide.\\n\\n**Want to learn more?**\\n\\nLet me know if you have any specific questions or if you\\'d like me to elaborate on any of these points! \\n'"
            ],
            "application/vnd.google.colaboratory.intrinsic+json": {
              "type": "string"
            }
          },
          "metadata": {},
          "execution_count": 37
        }
      ]
    },
    {
      "cell_type": "code",
      "source": [
        "messages.append((\"ai\", res.content))\n",
        "messages"
      ],
      "metadata": {
        "colab": {
          "base_uri": "https://localhost:8080/"
        },
        "collapsed": true,
        "id": "9o3oK-y9iOv_",
        "outputId": "ec5c9809-acca-4f78-bfe6-944dd5cbcaac"
      },
      "execution_count": 38,
      "outputs": [
        {
          "output_type": "execute_result",
          "data": {
            "text/plain": [
              "[('system', 'You are a helpful assistant.'),\n",
              " ('human', 'Hi AI how are you today?'),\n",
              " ('ai', 'I am great, how can I help you today?'),\n",
              " ('human', 'I want to know more about string theory.'),\n",
              " ('ai',\n",
              "  'That\\'s a fascinating topic! String theory is a complex and mind-bending area of theoretical physics. To give you the best understanding, I\\'ll break it down into digestible parts:\\n\\n**The Basics**\\n\\n* **Imagine...tiny, vibrating strings:** At its core, string theory proposes that the fundamental building blocks of the universe are not point-like particles (like electrons or quarks), but rather incredibly tiny, one-dimensional objects called \"strings.\"\\n* **Vibrations create reality:**  Just like a guitar string vibrating at different frequencies produces different musical notes, these strings vibrate in different ways, and these vibrations are what we perceive as different particles and forces.\\n* **Unifying forces:** One of the main goals of string theory is to provide a single framework that can explain all four fundamental forces of nature: gravity, electromagnetism, the strong nuclear force, and the weak nuclear force.\\n\\n**Key Concepts**\\n\\n* **Extra Dimensions:**  String theory suggests that our universe might have more than the familiar three spatial dimensions (length, width, height) and one time dimension. These extra dimensions are thought to be curled up and hidden at incredibly small scales.\\n* **Different Flavors of String Theory:**  Over time, physicists have developed different versions of string theory, each with its own mathematical framework. Some of the most well-known are:\\n    * **Superstring Theory:**  This version incorporates the concept of \"supersymmetry,\" which proposes a relationship between particles that make up matter (fermions) and particles that carry forces (bosons).\\n    * **M-Theory:** This theory attempts to unify the different string theories into a single framework.\\n\\n**Why is String Theory Important?**\\n\\n* **Quantum Gravity:** String theory has the potential to solve one of the biggest mysteries in modern physics: how to reconcile Einstein\\'s theory of general relativity (which describes gravity) with quantum mechanics (which describes the behavior of matter and energy at the atomic and subatomic levels).\\n* **Early Universe:** String theory could provide insights into the very early universe, including the nature of the Big Bang and the formation of the first structures.\\n\\n**Challenges and Criticisms**\\n\\n* **Experimental Verification:** One of the biggest challenges facing string theory is the lack of experimental evidence to support it. The strings are thought to be so small that they are beyond the reach of current technology.\\n* **Mathematical Complexity:** String theory is incredibly complex, and many of its predictions are difficult, if not impossible, to test.\\n\\n**In a Nutshell**\\n\\nString theory is a captivating but still-developing area of theoretical physics that aims to provide a unified description of the universe. While it faces significant challenges, it continues to inspire physicists and capture the imaginations of people worldwide.\\n\\n**Want to learn more?**\\n\\nLet me know if you have any specific questions or if you\\'d like me to elaborate on any of these points! \\n')]"
            ]
          },
          "metadata": {},
          "execution_count": 38
        }
      ]
    },
    {
      "cell_type": "code",
      "source": [
        "messages.append((\"human\", \"tell me more\"))\n",
        "llm.invoke(messages).content"
      ],
      "metadata": {
        "colab": {
          "base_uri": "https://localhost:8080/",
          "height": 244
        },
        "id": "nwmRS8GIj14X",
        "outputId": "f46978a3-e817-41d6-d165-de395ccf73b4"
      },
      "execution_count": 39,
      "outputs": [
        {
          "output_type": "execute_result",
          "data": {
            "text/plain": [
              "'Okay, you want to dive deeper! Here are some more intriguing aspects of string theory we can explore:\\n\\n**1. The Landscape Problem and the Multiverse:**\\n\\n* One prediction arising from string theory is the existence of a vast \"landscape\" of possible universes, each with its own set of physical laws and constants. This is because the extra dimensions in string theory can fold up in a mind-boggling number of ways (estimated to be around 10^500!), each configuration leading to a different universe.\\n* This idea, while mind-blowing, presents a challenge. If there are so many possible universes, why do we live in this particular one with these specific laws of physics? This is an active area of research and debate within the field.\\n\\n**2. D-Branes: Where Strings Get Stuck**\\n\\n* String theory also introduces the concept of \"D-branes,\" which are multi-dimensional objects (membranes) that exist within the higher-dimensional space. \\n* Strings can be thought of as being \"attached\" to these D-branes, with their endpoints confined to move along the brane\\'s surface.\\n* D-branes have played a crucial role in understanding black holes in string theory and have led to fascinating connections between gravity and other forces.\\n\\n**3. Holography and the AdS/CFT Correspondence:**\\n\\n* One of the most surprising and profound outcomes of string theory research is the \"holographic principle.\" This idea suggests that the information about a region of space (including gravity) can be encoded on its boundary, much like a hologram projects a 3D image from a 2D surface.\\n* A concrete realization of this is the AdS/CFT correspondence, which proposes a remarkable duality between certain string theories in a particular type of spacetime (Anti-de Sitter space) and certain quantum field theories (conformal field theories) that live on its boundary.\\n* This duality has had a significant impact on various areas of physics, including condensed matter physics and the study of strongly coupled quantum systems.\\n\\n**4. Still a Work in Progress:**\\n\\n* It\\'s essential to remember that string theory is still very much a work in progress. While it holds tremendous promise, there are still many open questions and challenges to overcome. \\n* Physicists are actively working on developing new mathematical tools and exploring different approaches to see if string theory can truly provide a complete and consistent description of our universe.\\n\\n**Let\\'s Keep Exploring!**\\n\\nDo you have any particular aspects of string theory that you find most intriguing, or are there any other questions I can help you with? I\\'m ready to delve deeper into specific areas or address any further curiosities you might have! \\n'"
            ],
            "application/vnd.google.colaboratory.intrinsic+json": {
              "type": "string"
            }
          },
          "metadata": {},
          "execution_count": 39
        }
      ]
    }
  ]
}
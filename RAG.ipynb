{
  "nbformat": 4,
  "nbformat_minor": 0,
  "metadata": {
    "colab": {
      "provenance": [],
      "authorship_tag": "ABX9TyPH7ORNtG4x7a2OVmguvnHa",
      "include_colab_link": true
    },
    "kernelspec": {
      "name": "python3",
      "display_name": "Python 3"
    },
    "language_info": {
      "name": "python"
    }
  },
  "cells": [
    {
      "cell_type": "markdown",
      "metadata": {
        "id": "view-in-github",
        "colab_type": "text"
      },
      "source": [
        "<a href=\"https://colab.research.google.com/github/poseidon2022/Retreival-Augumented-Generation/blob/main/RAG.ipynb\" target=\"_parent\"><img src=\"https://colab.research.google.com/assets/colab-badge.svg\" alt=\"Open In Colab\"/></a>"
      ]
    },
    {
      "cell_type": "code",
      "execution_count": null,
      "metadata": {
        "id": "5iNnJxYXUwIY",
        "collapsed": true
      },
      "outputs": [],
      "source": [
        "!pip install --upgrade fsspec==2024.6.1\n",
        "!pip install -qU \\\n",
        "  langchain==0.0.300 \\\n",
        "  datasets==2.14.6 \\\n",
        "  pinecone-client==2.2.4 \\\n",
        "  tiktoken==0.5.1\n",
        "!pip install langchain_google_genai"
      ]
    },
    {
      "cell_type": "code",
      "source": [
        "from google.colab import userdata\n",
        "GOOGLE_API_KEY = userdata.get('GOOGLE_API_KE')\n",
        ""
      ],
      "metadata": {
        "id": "cG2zvrKJbN0S"
      },
      "execution_count": 3,
      "outputs": []
    },
    {
      "cell_type": "code",
      "source": [
        "from langchain_google_genai import ChatGoogleGenerativeAI\n",
        "llm = ChatGoogleGenerativeAI(model=\"gemini-1.5-pro\",\n",
        "                             google_api_key = GOOGLE_API_KEY)\n",
        "\n",
        "#Example generation\n",
        "llm.invoke(\"Write me a ballad about LangChain\").content"
      ],
      "metadata": {
        "colab": {
          "base_uri": "https://localhost:8080/",
          "height": 244
        },
        "id": "ukw3H70OdGkI",
        "outputId": "51e0314b-7b62-4b45-93c8-500cedef79cc"
      },
      "execution_count": 4,
      "outputs": [
        {
          "output_type": "execute_result",
          "data": {
            "text/plain": [
              "\"Gather 'round, ye coders bold, and listen to my song,\\nOf LangChain, a library, where knowledge flows along.\\nNo more shall APIs confound, nor datasets make you weep,\\nFor LangChain binds them all in one, secrets it shall keep.\\n\\nFrom OpenAI's mighty forge, to Google's vast domain,\\nIt summons forth the power of AI, again and again.\\nWith whispers of embeddings, it weaves a web of thought,\\nAnd answers to your queries, are effortlessly caught.\\n\\nChains you'll forge, like links of steel, each task a stepping stone,\\nFrom summarizing long texts, to chatbot voices, sweetly sown.\\nQuestion answering, code it writes, and scripts for every use,\\nLangChain's potential, vast and bright, will never you confuse.\\n\\nBut fear not, weary traveler, on this path you're not alone,\\nA vibrant community thrives, their wisdom freely shown.\\nDocumentation vast and deep, tutorials to ignite,\\nThe power of language at your fingertips, shining ever bright.\\n\\nSo join the chorus, raise your voice, and sing with me this song,\\nOf LangChain, the library, where possibilities throng.\\nUnlock the secrets language holds, with every line you write,\\nAnd let the future unfold, in artificial light. \\n\""
            ],
            "application/vnd.google.colaboratory.intrinsic+json": {
              "type": "string"
            }
          },
          "metadata": {},
          "execution_count": 4
        }
      ]
    },
    {
      "cell_type": "markdown",
      "source": [],
      "metadata": {
        "id": "nNXlqIHdc5Zj"
      }
    },
    {
      "cell_type": "code",
      "source": [
        "#let us have a continuous in-memory context remembering example\n",
        "messages = [\n",
        "    (\"system\", \"You are a helpful assistant.\"),\n",
        "    (\"human\", \"Hi AI how are you today?\"),\n",
        "    (\"ai\", \"I am great, how can I help you today?\"),\n",
        "    (\"human\", \"I want to know more about string theory.\")\n",
        "]"
      ],
      "metadata": {
        "id": "fYCQ3w3xewrc"
      },
      "execution_count": 5,
      "outputs": []
    },
    {
      "cell_type": "code",
      "source": [
        "res = llm.invoke(messages)\n",
        "res.content"
      ],
      "metadata": {
        "colab": {
          "base_uri": "https://localhost:8080/",
          "height": 244
        },
        "id": "-7B1p-JJgxqY",
        "outputId": "af749f3b-4712-4416-f7f3-6c3a35f3746d"
      },
      "execution_count": 6,
      "outputs": [
        {
          "output_type": "execute_result",
          "data": {
            "text/plain": [
              "'That\\'s a fascinating topic! String theory is a complex area of theoretical physics, so it\\'s helpful to break it down. \\n\\n**Here\\'s a simplified overview of string theory:**\\n\\n* **The Basic Idea:** String theory proposes that the fundamental building blocks of the universe are not point-like particles (like electrons or quarks), but rather tiny, vibrating, one-dimensional \"strings.\" Think of them like incredibly small rubber bands.\\n* **Vibrations and Particles:** Just like a guitar string vibrating at different frequencies produces different musical notes, string theory suggests that the different vibrations of these fundamental strings give rise to the different particles and forces we observe in nature. \\n* **Unifying Forces:** One of the main goals of string theory is to provide a single framework that can explain all four fundamental forces of the universe: gravity, electromagnetism, the strong nuclear force, and the weak nuclear force.\\n* **Extra Dimensions:** To work mathematically, string theory often requires the existence of extra spatial dimensions beyond the three we experience (length, width, height) and time. These extra dimensions are thought to be curled up or \"compactified\" at incredibly small scales, making them undetectable to us.\\n* **Types of String Theory:** There are actually different versions of string theory, but many physicists believe they are all part of a more fundamental theory called M-theory.\\n\\n**Here are some key concepts in string theory you might find interesting:**\\n\\n* **Quantum Gravity:** String theory is one of the leading candidates for a theory of quantum gravity, which aims to unify quantum mechanics (governing the very small) and general relativity (governing the very large).\\n* **Black Holes:** String theory has provided insights into the nature of black holes, suggesting they might be more complex and dynamic than previously thought.\\n* **Holography:**  A mind-bending idea called the holographic principle, inspired by string theory, suggests that the information about a volume of space might be encoded on its boundary, like a 3D hologram projected from a 2D surface.\\n\\n**Where to learn more:**\\n\\n* **Books:** \"The Elegant Universe\" by Brian Greene is a great place to start for a non-technical introduction.\\n* **Websites:** Websites like PBS Space Time and websites of universities like Stanford and MIT have excellent resources.\\n* **Documentaries:** Search for documentaries on string theory on platforms like YouTube or Netflix.\\n\\n**Important note:** String theory is still a very active area of research and is not yet experimentally confirmed. It\\'s important to remember that it is a theoretical framework, and there is ongoing debate and exploration within the field.\\n\\nI hope this gives you a good starting point for understanding string theory! Let me know if you have any other questions. \\n'"
            ],
            "application/vnd.google.colaboratory.intrinsic+json": {
              "type": "string"
            }
          },
          "metadata": {},
          "execution_count": 6
        }
      ]
    },
    {
      "cell_type": "code",
      "source": [
        "messages.append((\"ai\", res.content))\n",
        "messages"
      ],
      "metadata": {
        "colab": {
          "base_uri": "https://localhost:8080/"
        },
        "collapsed": true,
        "id": "9o3oK-y9iOv_",
        "outputId": "4ed00c76-53c2-4703-9e65-a32e55fa5d86"
      },
      "execution_count": 7,
      "outputs": [
        {
          "output_type": "execute_result",
          "data": {
            "text/plain": [
              "[('system', 'You are a helpful assistant.'),\n",
              " ('human', 'Hi AI how are you today?'),\n",
              " ('ai', 'I am great, how can I help you today?'),\n",
              " ('human', 'I want to know more about string theory.'),\n",
              " ('ai',\n",
              "  'That\\'s a fascinating topic! String theory is a complex area of theoretical physics, so it\\'s helpful to break it down. \\n\\n**Here\\'s a simplified overview of string theory:**\\n\\n* **The Basic Idea:** String theory proposes that the fundamental building blocks of the universe are not point-like particles (like electrons or quarks), but rather tiny, vibrating, one-dimensional \"strings.\" Think of them like incredibly small rubber bands.\\n* **Vibrations and Particles:** Just like a guitar string vibrating at different frequencies produces different musical notes, string theory suggests that the different vibrations of these fundamental strings give rise to the different particles and forces we observe in nature. \\n* **Unifying Forces:** One of the main goals of string theory is to provide a single framework that can explain all four fundamental forces of the universe: gravity, electromagnetism, the strong nuclear force, and the weak nuclear force.\\n* **Extra Dimensions:** To work mathematically, string theory often requires the existence of extra spatial dimensions beyond the three we experience (length, width, height) and time. These extra dimensions are thought to be curled up or \"compactified\" at incredibly small scales, making them undetectable to us.\\n* **Types of String Theory:** There are actually different versions of string theory, but many physicists believe they are all part of a more fundamental theory called M-theory.\\n\\n**Here are some key concepts in string theory you might find interesting:**\\n\\n* **Quantum Gravity:** String theory is one of the leading candidates for a theory of quantum gravity, which aims to unify quantum mechanics (governing the very small) and general relativity (governing the very large).\\n* **Black Holes:** String theory has provided insights into the nature of black holes, suggesting they might be more complex and dynamic than previously thought.\\n* **Holography:**  A mind-bending idea called the holographic principle, inspired by string theory, suggests that the information about a volume of space might be encoded on its boundary, like a 3D hologram projected from a 2D surface.\\n\\n**Where to learn more:**\\n\\n* **Books:** \"The Elegant Universe\" by Brian Greene is a great place to start for a non-technical introduction.\\n* **Websites:** Websites like PBS Space Time and websites of universities like Stanford and MIT have excellent resources.\\n* **Documentaries:** Search for documentaries on string theory on platforms like YouTube or Netflix.\\n\\n**Important note:** String theory is still a very active area of research and is not yet experimentally confirmed. It\\'s important to remember that it is a theoretical framework, and there is ongoing debate and exploration within the field.\\n\\nI hope this gives you a good starting point for understanding string theory! Let me know if you have any other questions. \\n')]"
            ]
          },
          "metadata": {},
          "execution_count": 7
        }
      ]
    },
    {
      "cell_type": "code",
      "source": [
        "messages.append((\"human\", \"tell me more\"))\n",
        "llm.invoke(messages).content"
      ],
      "metadata": {
        "colab": {
          "base_uri": "https://localhost:8080/",
          "height": 192
        },
        "id": "nwmRS8GIj14X",
        "outputId": "5a6266c1-04c5-4a5f-86f3-9af8b54c1676"
      },
      "execution_count": 8,
      "outputs": [
        {
          "output_type": "execute_result",
          "data": {
            "text/plain": [
              "\"You got it! It's great you're interested in diving deeper. Since string theory is so broad, it helps to focus on specific aspects. What specifically about string theory would you like to know more about? \\n\\nFor example, would you be interested in:\\n\\n* **The different types of string theory and how they relate to each other?** (Like Superstring Theory, M-Theory)\\n* **The potential implications of string theory, such as the existence of parallel universes?**\\n* **The challenges and criticisms string theory faces, such as the difficulty in testing it experimentally?**\\n* **Specific concepts within string theory, like branes, supersymmetry, or quantum foam?**\\n\\nLet me know what sparks your curiosity, and I'll do my best to provide you with more information! \\n\""
            ],
            "application/vnd.google.colaboratory.intrinsic+json": {
              "type": "string"
            }
          },
          "metadata": {},
          "execution_count": 8
        }
      ]
    },
    {
      "cell_type": "markdown",
      "source": [
        "Now we have our llm setup and the next thing is loading up a freash document. I setup a document on a fictional company named Kidus Melaku Simegne. But you can load up any document and test the functionality."
      ],
      "metadata": {
        "id": "4QAoDEXjkyRf"
      }
    },
    {
      "cell_type": "code",
      "source": [
        "from langchain_google_genai import GoogleGenerativeAIEmbeddings\n",
        "\n",
        "embeddings = GoogleGenerativeAIEmbeddings(model=\"models/embedding-001\",\n",
        "                                          google_api_key = GOOGLE_API_KEY)\n",
        "#example embedding\n",
        "vector = embeddings.embed_query(\"hello, world!\")\n",
        "vector[:5]"
      ],
      "metadata": {
        "colab": {
          "base_uri": "https://localhost:8080/"
        },
        "id": "KwNQ7ZRFodvO",
        "outputId": "8bb32909-6ae5-4681-c52f-093e80cf31ae"
      },
      "execution_count": 9,
      "outputs": [
        {
          "output_type": "execute_result",
          "data": {
            "text/plain": [
              "[0.05168594419956207,\n",
              " -0.030764883384108543,\n",
              " -0.03062233328819275,\n",
              " -0.02802734449505806,\n",
              " 0.01813092641532421]"
            ]
          },
          "metadata": {},
          "execution_count": 9
        }
      ]
    }
  ]
}
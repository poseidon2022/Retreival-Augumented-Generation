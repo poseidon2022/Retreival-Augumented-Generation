{
  "nbformat": 4,
  "nbformat_minor": 0,
  "metadata": {
    "colab": {
      "provenance": [],
      "authorship_tag": "ABX9TyOMYOzWSVohDfWfgFw2AC/y",
      "include_colab_link": true
    },
    "kernelspec": {
      "name": "python3",
      "display_name": "Python 3"
    },
    "language_info": {
      "name": "python"
    },
    "widgets": {
      "application/vnd.jupyter.widget-state+json": {
        "e0049b59495d49a3998c3ebba53d789d": {
          "model_module": "@jupyter-widgets/controls",
          "model_name": "HBoxModel",
          "model_module_version": "1.5.0",
          "state": {
            "_dom_classes": [],
            "_model_module": "@jupyter-widgets/controls",
            "_model_module_version": "1.5.0",
            "_model_name": "HBoxModel",
            "_view_count": null,
            "_view_module": "@jupyter-widgets/controls",
            "_view_module_version": "1.5.0",
            "_view_name": "HBoxView",
            "box_style": "",
            "children": [
              "IPY_MODEL_a56d9a5b069a4b808a234b13fcf6cb0a",
              "IPY_MODEL_63d1745869c84cffa48628b036137857",
              "IPY_MODEL_9fcbb24b575b455f81ccc3e4b4e24530"
            ],
            "layout": "IPY_MODEL_07241b20f5354b0991d614a85e512941"
          }
        },
        "a56d9a5b069a4b808a234b13fcf6cb0a": {
          "model_module": "@jupyter-widgets/controls",
          "model_name": "HTMLModel",
          "model_module_version": "1.5.0",
          "state": {
            "_dom_classes": [],
            "_model_module": "@jupyter-widgets/controls",
            "_model_module_version": "1.5.0",
            "_model_name": "HTMLModel",
            "_view_count": null,
            "_view_module": "@jupyter-widgets/controls",
            "_view_module_version": "1.5.0",
            "_view_name": "HTMLView",
            "description": "",
            "description_tooltip": null,
            "layout": "IPY_MODEL_07aa8ff8b3c7435aaaedbb1f591dde1e",
            "placeholder": "​",
            "style": "IPY_MODEL_9ac02cceaa424865bcb21dc6b294d52e",
            "value": "100%"
          }
        },
        "63d1745869c84cffa48628b036137857": {
          "model_module": "@jupyter-widgets/controls",
          "model_name": "FloatProgressModel",
          "model_module_version": "1.5.0",
          "state": {
            "_dom_classes": [],
            "_model_module": "@jupyter-widgets/controls",
            "_model_module_version": "1.5.0",
            "_model_name": "FloatProgressModel",
            "_view_count": null,
            "_view_module": "@jupyter-widgets/controls",
            "_view_module_version": "1.5.0",
            "_view_name": "ProgressView",
            "bar_style": "success",
            "description": "",
            "description_tooltip": null,
            "layout": "IPY_MODEL_bd012d0eb70c470c86fb94c67477d937",
            "max": 1,
            "min": 0,
            "orientation": "horizontal",
            "style": "IPY_MODEL_478a794c56b94cabb9122e2f86d82e08",
            "value": 1
          }
        },
        "9fcbb24b575b455f81ccc3e4b4e24530": {
          "model_module": "@jupyter-widgets/controls",
          "model_name": "HTMLModel",
          "model_module_version": "1.5.0",
          "state": {
            "_dom_classes": [],
            "_model_module": "@jupyter-widgets/controls",
            "_model_module_version": "1.5.0",
            "_model_name": "HTMLModel",
            "_view_count": null,
            "_view_module": "@jupyter-widgets/controls",
            "_view_module_version": "1.5.0",
            "_view_name": "HTMLView",
            "description": "",
            "description_tooltip": null,
            "layout": "IPY_MODEL_3f2d9b727e9c4e93937ab5e3200aafdb",
            "placeholder": "​",
            "style": "IPY_MODEL_32946818ee1144919d95507b162c80ce",
            "value": " 1/1 [00:00&lt;00:00, 43.44it/s]"
          }
        },
        "07241b20f5354b0991d614a85e512941": {
          "model_module": "@jupyter-widgets/base",
          "model_name": "LayoutModel",
          "model_module_version": "1.2.0",
          "state": {
            "_model_module": "@jupyter-widgets/base",
            "_model_module_version": "1.2.0",
            "_model_name": "LayoutModel",
            "_view_count": null,
            "_view_module": "@jupyter-widgets/base",
            "_view_module_version": "1.2.0",
            "_view_name": "LayoutView",
            "align_content": null,
            "align_items": null,
            "align_self": null,
            "border": null,
            "bottom": null,
            "display": null,
            "flex": null,
            "flex_flow": null,
            "grid_area": null,
            "grid_auto_columns": null,
            "grid_auto_flow": null,
            "grid_auto_rows": null,
            "grid_column": null,
            "grid_gap": null,
            "grid_row": null,
            "grid_template_areas": null,
            "grid_template_columns": null,
            "grid_template_rows": null,
            "height": null,
            "justify_content": null,
            "justify_items": null,
            "left": null,
            "margin": null,
            "max_height": null,
            "max_width": null,
            "min_height": null,
            "min_width": null,
            "object_fit": null,
            "object_position": null,
            "order": null,
            "overflow": null,
            "overflow_x": null,
            "overflow_y": null,
            "padding": null,
            "right": null,
            "top": null,
            "visibility": null,
            "width": null
          }
        },
        "07aa8ff8b3c7435aaaedbb1f591dde1e": {
          "model_module": "@jupyter-widgets/base",
          "model_name": "LayoutModel",
          "model_module_version": "1.2.0",
          "state": {
            "_model_module": "@jupyter-widgets/base",
            "_model_module_version": "1.2.0",
            "_model_name": "LayoutModel",
            "_view_count": null,
            "_view_module": "@jupyter-widgets/base",
            "_view_module_version": "1.2.0",
            "_view_name": "LayoutView",
            "align_content": null,
            "align_items": null,
            "align_self": null,
            "border": null,
            "bottom": null,
            "display": null,
            "flex": null,
            "flex_flow": null,
            "grid_area": null,
            "grid_auto_columns": null,
            "grid_auto_flow": null,
            "grid_auto_rows": null,
            "grid_column": null,
            "grid_gap": null,
            "grid_row": null,
            "grid_template_areas": null,
            "grid_template_columns": null,
            "grid_template_rows": null,
            "height": null,
            "justify_content": null,
            "justify_items": null,
            "left": null,
            "margin": null,
            "max_height": null,
            "max_width": null,
            "min_height": null,
            "min_width": null,
            "object_fit": null,
            "object_position": null,
            "order": null,
            "overflow": null,
            "overflow_x": null,
            "overflow_y": null,
            "padding": null,
            "right": null,
            "top": null,
            "visibility": null,
            "width": null
          }
        },
        "9ac02cceaa424865bcb21dc6b294d52e": {
          "model_module": "@jupyter-widgets/controls",
          "model_name": "DescriptionStyleModel",
          "model_module_version": "1.5.0",
          "state": {
            "_model_module": "@jupyter-widgets/controls",
            "_model_module_version": "1.5.0",
            "_model_name": "DescriptionStyleModel",
            "_view_count": null,
            "_view_module": "@jupyter-widgets/base",
            "_view_module_version": "1.2.0",
            "_view_name": "StyleView",
            "description_width": ""
          }
        },
        "bd012d0eb70c470c86fb94c67477d937": {
          "model_module": "@jupyter-widgets/base",
          "model_name": "LayoutModel",
          "model_module_version": "1.2.0",
          "state": {
            "_model_module": "@jupyter-widgets/base",
            "_model_module_version": "1.2.0",
            "_model_name": "LayoutModel",
            "_view_count": null,
            "_view_module": "@jupyter-widgets/base",
            "_view_module_version": "1.2.0",
            "_view_name": "LayoutView",
            "align_content": null,
            "align_items": null,
            "align_self": null,
            "border": null,
            "bottom": null,
            "display": null,
            "flex": null,
            "flex_flow": null,
            "grid_area": null,
            "grid_auto_columns": null,
            "grid_auto_flow": null,
            "grid_auto_rows": null,
            "grid_column": null,
            "grid_gap": null,
            "grid_row": null,
            "grid_template_areas": null,
            "grid_template_columns": null,
            "grid_template_rows": null,
            "height": null,
            "justify_content": null,
            "justify_items": null,
            "left": null,
            "margin": null,
            "max_height": null,
            "max_width": null,
            "min_height": null,
            "min_width": null,
            "object_fit": null,
            "object_position": null,
            "order": null,
            "overflow": null,
            "overflow_x": null,
            "overflow_y": null,
            "padding": null,
            "right": null,
            "top": null,
            "visibility": null,
            "width": null
          }
        },
        "478a794c56b94cabb9122e2f86d82e08": {
          "model_module": "@jupyter-widgets/controls",
          "model_name": "ProgressStyleModel",
          "model_module_version": "1.5.0",
          "state": {
            "_model_module": "@jupyter-widgets/controls",
            "_model_module_version": "1.5.0",
            "_model_name": "ProgressStyleModel",
            "_view_count": null,
            "_view_module": "@jupyter-widgets/base",
            "_view_module_version": "1.2.0",
            "_view_name": "StyleView",
            "bar_color": null,
            "description_width": ""
          }
        },
        "3f2d9b727e9c4e93937ab5e3200aafdb": {
          "model_module": "@jupyter-widgets/base",
          "model_name": "LayoutModel",
          "model_module_version": "1.2.0",
          "state": {
            "_model_module": "@jupyter-widgets/base",
            "_model_module_version": "1.2.0",
            "_model_name": "LayoutModel",
            "_view_count": null,
            "_view_module": "@jupyter-widgets/base",
            "_view_module_version": "1.2.0",
            "_view_name": "LayoutView",
            "align_content": null,
            "align_items": null,
            "align_self": null,
            "border": null,
            "bottom": null,
            "display": null,
            "flex": null,
            "flex_flow": null,
            "grid_area": null,
            "grid_auto_columns": null,
            "grid_auto_flow": null,
            "grid_auto_rows": null,
            "grid_column": null,
            "grid_gap": null,
            "grid_row": null,
            "grid_template_areas": null,
            "grid_template_columns": null,
            "grid_template_rows": null,
            "height": null,
            "justify_content": null,
            "justify_items": null,
            "left": null,
            "margin": null,
            "max_height": null,
            "max_width": null,
            "min_height": null,
            "min_width": null,
            "object_fit": null,
            "object_position": null,
            "order": null,
            "overflow": null,
            "overflow_x": null,
            "overflow_y": null,
            "padding": null,
            "right": null,
            "top": null,
            "visibility": null,
            "width": null
          }
        },
        "32946818ee1144919d95507b162c80ce": {
          "model_module": "@jupyter-widgets/controls",
          "model_name": "DescriptionStyleModel",
          "model_module_version": "1.5.0",
          "state": {
            "_model_module": "@jupyter-widgets/controls",
            "_model_module_version": "1.5.0",
            "_model_name": "DescriptionStyleModel",
            "_view_count": null,
            "_view_module": "@jupyter-widgets/base",
            "_view_module_version": "1.2.0",
            "_view_name": "StyleView",
            "description_width": ""
          }
        }
      }
    }
  },
  "cells": [
    {
      "cell_type": "markdown",
      "metadata": {
        "id": "view-in-github",
        "colab_type": "text"
      },
      "source": [
        "<a href=\"https://colab.research.google.com/github/poseidon2022/Retreival-Augumented-Generation/blob/main/RAG.ipynb\" target=\"_parent\"><img src=\"https://colab.research.google.com/assets/colab-badge.svg\" alt=\"Open In Colab\"/></a>"
      ]
    },
    {
      "cell_type": "code",
      "execution_count": null,
      "metadata": {
        "id": "5iNnJxYXUwIY",
        "collapsed": true
      },
      "outputs": [],
      "source": [
        "!pip install --upgrade fsspec==2024.6.1\n",
        "!pip install -qU \\\n",
        "  langchain==0.0.300 \\\n",
        "  datasets==2.14.6 \\\n",
        "  pinecone-client==2.2.4 \\\n",
        "  tiktoken==0.5.1\n",
        "!pip install langchain_google_genai\n",
        "!pip install pypdf==3.1.0"
      ]
    },
    {
      "cell_type": "code",
      "source": [
        "from google.colab import userdata\n",
        "GOOGLE_API_KEY = userdata.get('GOOGLE_API_KE')\n",
        ""
      ],
      "metadata": {
        "id": "cG2zvrKJbN0S"
      },
      "execution_count": 16,
      "outputs": []
    },
    {
      "cell_type": "code",
      "source": [
        "from langchain_google_genai import ChatGoogleGenerativeAI\n",
        "llm = ChatGoogleGenerativeAI(model=\"gemini-1.5-pro\",\n",
        "                             google_api_key = GOOGLE_API_KEY)\n",
        "\n",
        "#Example generation\n",
        "llm.invoke(\"Write me a ballad about LangChain\").content"
      ],
      "metadata": {
        "id": "ukw3H70OdGkI"
      },
      "execution_count": null,
      "outputs": []
    },
    {
      "cell_type": "markdown",
      "source": [],
      "metadata": {
        "id": "nNXlqIHdc5Zj"
      }
    },
    {
      "cell_type": "code",
      "source": [
        "#let us have a continuous in-memory context remembering example\n",
        "messages = [\n",
        "    (\"system\", \"You are a helpful assistant.\"),\n",
        "    (\"human\", \"Hi AI how are you today?\"),\n",
        "    (\"ai\", \"I am great, how can I help you today?\"),\n",
        "    (\"human\", \"I want to know more about string theory.\")\n",
        "]"
      ],
      "metadata": {
        "id": "fYCQ3w3xewrc"
      },
      "execution_count": 18,
      "outputs": []
    },
    {
      "cell_type": "code",
      "source": [
        "res = llm.invoke(messages)\n",
        "res.content"
      ],
      "metadata": {
        "id": "-7B1p-JJgxqY"
      },
      "execution_count": null,
      "outputs": []
    },
    {
      "cell_type": "code",
      "source": [
        "messages.append((\"ai\", res.content))\n",
        "messages"
      ],
      "metadata": {
        "collapsed": true,
        "id": "9o3oK-y9iOv_"
      },
      "execution_count": null,
      "outputs": []
    },
    {
      "cell_type": "code",
      "source": [
        "messages.append((\"human\", \"tell me more\"))\n",
        "llm.invoke(messages).content"
      ],
      "metadata": {
        "id": "nwmRS8GIj14X"
      },
      "execution_count": null,
      "outputs": []
    },
    {
      "cell_type": "markdown",
      "source": [
        "Now we have our llm setup and the next thing is loading up a freash document. I setup a document on a fictional company named Kidus Melaku Simegne. But you can load up any document and test the functionality."
      ],
      "metadata": {
        "id": "4QAoDEXjkyRf"
      }
    },
    {
      "cell_type": "code",
      "source": [
        "from langchain_google_genai import GoogleGenerativeAIEmbeddings\n",
        "from langchain.document_loaders import PyPDFLoader\n",
        "from langchain.text_splitter import RecursiveCharacterTextSplitter\n",
        "import uuid\n",
        "from tqdm.auto import tqdm\n",
        "\n",
        "embeddings = GoogleGenerativeAIEmbeddings(model=\"models/embedding-001\",\n",
        "                                          google_api_key = GOOGLE_API_KEY)\n",
        "#example embedding\n",
        "vector = embeddings.embed_query(\"hello, world!\")\n",
        "vector[:5]"
      ],
      "metadata": {
        "colab": {
          "base_uri": "https://localhost:8080/"
        },
        "id": "KwNQ7ZRFodvO",
        "outputId": "9e27a69e-c98c-456e-97dd-66d2c9d62d14"
      },
      "execution_count": 45,
      "outputs": [
        {
          "output_type": "execute_result",
          "data": {
            "text/plain": [
              "[0.05168594419956207,\n",
              " -0.030764883384108543,\n",
              " -0.03062233328819275,\n",
              " -0.02802734449505806,\n",
              " 0.01813092641532421]"
            ]
          },
          "metadata": {},
          "execution_count": 45
        }
      ]
    },
    {
      "cell_type": "code",
      "source": [
        "#Now we have to load up our document and try to split it into smalled chunks that\n",
        "#are later to be used for embedding\n",
        "def load_document(file_path):\n",
        "  loader = PyPDFLoader(file_path)\n",
        "  document = loader.load()\n",
        "\n",
        "  #now we use a recursive text splitter to chunk up the text into a list of smaller texts\n",
        "  text_splitter = RecursiveCharacterTextSplitter(\n",
        "    chunk_size=800,\n",
        "    chunk_overlap=150\n",
        "  )\n",
        "  chunks = text_splitter.split_documents(document)\n",
        "\n",
        "  #now let us extraxt the content from the chunks and use google's generative ai embedding\n",
        "  #to prepare our embedding vector\n",
        "  batch_size = 20\n",
        "  for i in tqdm(range(0, len(document), batch_size)):\n",
        "    i_end = min(i + batch_size, len(document))\n",
        "    batch = document[i:i_end]\n",
        "\n",
        "    ids = []\n",
        "    context_array = []\n",
        "    meta_data = []\n",
        "    for i, row in enumerate(batch):\n",
        "      print(f\"appending {i}\")\n",
        "      ids.append(str(uuid.uuid4()))\n",
        "      context_array.append(row.page_content)\n",
        "      meta_data.append({\n",
        "          'source' : row.metadata[\"source\"],\n",
        "          'page' : row.metadata[\"page\"] + 1,\n",
        "          'context' : row.page_content\n",
        "      })\n",
        "\n",
        "  emb_vectors = embeddings.embed_documents(context_array)\n",
        "  return ids, emb_vectors, meta_data\n",
        "\n",
        "\n",
        "#let us check if our embedding function is working correctly\n",
        "ids, emb_vectors, meta_data = load_document(\"Kidus Melaku's company.pdf\")\n"
      ],
      "metadata": {
        "colab": {
          "base_uri": "https://localhost:8080/",
          "height": 170,
          "referenced_widgets": [
            "e0049b59495d49a3998c3ebba53d789d",
            "a56d9a5b069a4b808a234b13fcf6cb0a",
            "63d1745869c84cffa48628b036137857",
            "9fcbb24b575b455f81ccc3e4b4e24530",
            "07241b20f5354b0991d614a85e512941",
            "07aa8ff8b3c7435aaaedbb1f591dde1e",
            "9ac02cceaa424865bcb21dc6b294d52e",
            "bd012d0eb70c470c86fb94c67477d937",
            "478a794c56b94cabb9122e2f86d82e08",
            "3f2d9b727e9c4e93937ab5e3200aafdb",
            "32946818ee1144919d95507b162c80ce"
          ]
        },
        "id": "AH5e2uLppwGg",
        "outputId": "05642fc2-2254-47c6-f084-eb8cee41a3a9"
      },
      "execution_count": 50,
      "outputs": [
        {
          "output_type": "display_data",
          "data": {
            "text/plain": [
              "  0%|          | 0/1 [00:00<?, ?it/s]"
            ],
            "application/vnd.jupyter.widget-view+json": {
              "version_major": 2,
              "version_minor": 0,
              "model_id": "e0049b59495d49a3998c3ebba53d789d"
            }
          },
          "metadata": {}
        },
        {
          "output_type": "stream",
          "name": "stdout",
          "text": [
            "appending 0\n",
            "appending 1\n",
            "appending 2\n",
            "appending 3\n",
            "appending 4\n",
            "appending 5\n",
            "appending 6\n"
          ]
        }
      ]
    },
    {
      "cell_type": "markdown",
      "source": [
        "Now we have our embeding function and to insert any embeded vector along with its meta data and id to a database, we use a vector database known as pinecone for that. we will create an index with a specified dimension and we will try to upsert the embeded document to our database"
      ],
      "metadata": {
        "id": "1gr3CrkL0FKW"
      }
    }
  ]
}